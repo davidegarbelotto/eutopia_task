{
 "cells": [
  {
   "cell_type": "markdown",
   "metadata": {},
   "source": [
    "## Eutopia Intern Task"
   ]
  },
  {
   "cell_type": "code",
   "execution_count": 49,
   "metadata": {},
   "outputs": [],
   "source": [
    "# import useful packages\n",
    "\n",
    "import numpy as np \n",
    "import pandas as pd \n",
    "import matplotlib.pyplot as plt\n",
    "import pickle\n",
    "import nltk\n",
    "from nltk.corpus import stopwords\n",
    "from sklearn.model_selection import train_test_split, cross_val_score, GridSearchCV\n",
    "from collections import Counter\n",
    "from sklearn.feature_selection import SelectKBest, chi2\n",
    "from sklearn.preprocessing import MinMaxScaler\n",
    "from sklearn.ensemble import RandomForestClassifier\n",
    "from sklearn.metrics import confusion_matrix, ConfusionMatrixDisplay"
   ]
  },
  {
   "cell_type": "markdown",
   "metadata": {},
   "source": [
    "### Load the data"
   ]
  },
  {
   "cell_type": "code",
   "execution_count": 50,
   "metadata": {
    "_cell_guid": "79c7e3d0-c299-4dcb-8224-4455121ee9b0",
    "_uuid": "d629ff2d2480ee46fbb7e2d37f6b5fab8052498a"
   },
   "outputs": [],
   "source": [
    "# import the data\n",
    "\n",
    "filename = '../dataset.pickle'\n",
    "infile = open(filename,'rb')\n",
    "data = pickle.load(infile)\n",
    "infile.close()"
   ]
  },
  {
   "cell_type": "code",
   "execution_count": 51,
   "metadata": {},
   "outputs": [],
   "source": [
    "# use the ID of the company as index to remove one column\n",
    "\n",
    "data.index = data.crunchbase_ID\n",
    "data = data.drop('crunchbase_ID', axis=1)"
   ]
  },
  {
   "cell_type": "code",
   "execution_count": 52,
   "metadata": {},
   "outputs": [],
   "source": [
    "# split into data and labels\n",
    "\n",
    "y = data.AI\n",
    "x = data.copy().drop('AI', axis=1)"
   ]
  },
  {
   "cell_type": "code",
   "execution_count": 53,
   "metadata": {},
   "outputs": [
    {
     "data": {
      "text/plain": [
       "home_text           0\n",
       "aboutus_text     2682\n",
       "overview_text    4828\n",
       "whatwedo_text    4844\n",
       "company_text     4417\n",
       "whoweare_text    4811\n",
       "dtype: int64"
      ]
     },
     "execution_count": 53,
     "metadata": {},
     "output_type": "execute_result"
    }
   ],
   "source": [
    "# inspect null values\n",
    "\n",
    "x.isnull().sum()"
   ]
  },
  {
   "cell_type": "code",
   "execution_count": 54,
   "metadata": {},
   "outputs": [],
   "source": [
    "# Group all the text in one field: assume all the fields give the same information\n",
    "\n",
    "x.fillna('', inplace = True) # replace nan to concatenate columns\n",
    "x['alltext'] = x.home_text + x.aboutus_text + x.overview_text + x.whatwedo_text + x.company_text +x.whoweare_text\n",
    "x = pd.DataFrame(x.alltext) "
   ]
  },
  {
   "cell_type": "code",
   "execution_count": 55,
   "metadata": {},
   "outputs": [
    {
     "data": {
      "text/html": [
       "<div>\n",
       "<style scoped>\n",
       "    .dataframe tbody tr th:only-of-type {\n",
       "        vertical-align: middle;\n",
       "    }\n",
       "\n",
       "    .dataframe tbody tr th {\n",
       "        vertical-align: top;\n",
       "    }\n",
       "\n",
       "    .dataframe thead th {\n",
       "        text-align: right;\n",
       "    }\n",
       "</style>\n",
       "<table border=\"1\" class=\"dataframe\">\n",
       "  <thead>\n",
       "    <tr style=\"text-align: right;\">\n",
       "      <th></th>\n",
       "      <th>alltext</th>\n",
       "    </tr>\n",
       "    <tr>\n",
       "      <th>crunchbase_ID</th>\n",
       "      <th></th>\n",
       "    </tr>\n",
       "  </thead>\n",
       "  <tbody>\n",
       "    <tr>\n",
       "      <th>1916</th>\n",
       "      <td>[skip, main, content, products, gpu, accelerat...</td>\n",
       "    </tr>\n",
       "    <tr>\n",
       "      <th>1917</th>\n",
       "      <td>[ais, research, company, careers, get, touch, ...</td>\n",
       "    </tr>\n",
       "    <tr>\n",
       "      <th>1918</th>\n",
       "      <td>[toggle, navigation, product, projects, compan...</td>\n",
       "    </tr>\n",
       "    <tr>\n",
       "      <th>1919</th>\n",
       "      <td>[brainpeek, solutions, create, seamless, onlin...</td>\n",
       "    </tr>\n",
       "    <tr>\n",
       "      <th>1920</th>\n",
       "      <td>[tool, languages, services, extract, product, ...</td>\n",
       "    </tr>\n",
       "    <tr>\n",
       "      <th>...</th>\n",
       "      <td>...</td>\n",
       "    </tr>\n",
       "    <tr>\n",
       "      <th>2735</th>\n",
       "      <td>[username, email, l, senord, remember, norsk, ...</td>\n",
       "    </tr>\n",
       "    <tr>\n",
       "      <th>5944</th>\n",
       "      <td>[solutions, solution, distributors, covered, r...</td>\n",
       "    </tr>\n",
       "    <tr>\n",
       "      <th>5251</th>\n",
       "      <td>[browse, products, variety, cases, pasta, mac,...</td>\n",
       "    </tr>\n",
       "    <tr>\n",
       "      <th>4225</th>\n",
       "      <td>[pricing, documentation, community, changelog,...</td>\n",
       "    </tr>\n",
       "    <tr>\n",
       "      <th>4779</th>\n",
       "      <td>[faq, jobs, blog, contact, faq, jobs, blog, co...</td>\n",
       "    </tr>\n",
       "  </tbody>\n",
       "</table>\n",
       "<p>4894 rows × 1 columns</p>\n",
       "</div>"
      ],
      "text/plain": [
       "                                                         alltext\n",
       "crunchbase_ID                                                   \n",
       "1916           [skip, main, content, products, gpu, accelerat...\n",
       "1917           [ais, research, company, careers, get, touch, ...\n",
       "1918           [toggle, navigation, product, projects, compan...\n",
       "1919           [brainpeek, solutions, create, seamless, onlin...\n",
       "1920           [tool, languages, services, extract, product, ...\n",
       "...                                                          ...\n",
       "2735           [username, email, l, senord, remember, norsk, ...\n",
       "5944           [solutions, solution, distributors, covered, r...\n",
       "5251           [browse, products, variety, cases, pasta, mac,...\n",
       "4225           [pricing, documentation, community, changelog,...\n",
       "4779           [faq, jobs, blog, contact, faq, jobs, blog, co...\n",
       "\n",
       "[4894 rows x 1 columns]"
      ]
     },
     "execution_count": 55,
     "metadata": {},
     "output_type": "execute_result"
    }
   ],
   "source": [
    "# Text preprocessing\n",
    "\n",
    "x.alltext = x.alltext.str.lower() # Lowercase\n",
    "x.alltext = x.alltext.str.replace('\\d+', '') # Remove numbers\n",
    "x.alltext = x.alltext.str.replace('[^\\w\\s]','') # Remove punctuation\n",
    "x.alltext = x.alltext.str.strip()   # Remove whitespaces\n",
    "x.alltext = x.apply(lambda row: nltk.word_tokenize(row['alltext']), axis=1) # tokenize words\n",
    "\n",
    "stop_words = set(stopwords.words('english')) # Import stop words to remove\n",
    "x.alltext = x.alltext.apply(lambda x:[item for item in x if item not in stop_words])  # Remove stop words\n",
    "\n",
    "x"
   ]
  },
  {
   "cell_type": "code",
   "execution_count": 56,
   "metadata": {},
   "outputs": [],
   "source": [
    "# split into training set and test set\n",
    "\n",
    "x_train, x_test, y_train, y_test = train_test_split(x, y, test_size=0.25, random_state = 1)"
   ]
  },
  {
   "cell_type": "markdown",
   "metadata": {},
   "source": [
    "## Text feature Extraction"
   ]
  },
  {
   "cell_type": "code",
   "execution_count": 57,
   "metadata": {},
   "outputs": [],
   "source": [
    "# function to extract the vocabulary\n",
    "\n",
    "def extract_vocabulary(dataseries, vocab_size):\n",
    "    unk_token = '<UNK>'    # Out-of-vocabulary words\n",
    "    special_tokens = [unk_token]\n",
    "    counter = Counter(word for text in dataseries.iteritems() for word in text[1])  # Count word appeareance\n",
    "    most_common_counts = counter.most_common(vocab_size-1)   # Select the vocab_size -1 most common words, the last is UNK\n",
    "    most_frequent_words = [word for (word, count) in most_common_counts]\n",
    "    idx2token = special_tokens + most_frequent_words\n",
    "    token2idx = {token: token_id for token_id, token in enumerate(idx2token)}\n",
    "    return unk_token, token2idx, most_common_counts"
   ]
  },
  {
   "cell_type": "code",
   "execution_count": 58,
   "metadata": {},
   "outputs": [],
   "source": [
    "# extract the vocabulary\n",
    "\n",
    "vocab_size = 3000 \n",
    "unk_token, token2idx, most_common_counts = extract_vocabulary(x_train.alltext, vocab_size=vocab_size)  # Extract vocabulary only from train data\n",
    "unk_token_id = token2idx[unk_token]"
   ]
  },
  {
   "cell_type": "code",
   "execution_count": 59,
   "metadata": {},
   "outputs": [],
   "source": [
    "# encode words with their index in the vocabulary\n",
    "\n",
    "def encode_token_ids(dataseries, vocabulary, unk_token_id):\n",
    "    return [[vocabulary.get(token, unk_token_id) for token in sentence[1]]     #returns unk_token_id if word not found\n",
    "            for sentence in dataseries.iteritems()]"
   ]
  },
  {
   "cell_type": "code",
   "execution_count": 60,
   "metadata": {},
   "outputs": [],
   "source": [
    "# perform the encoding\n",
    "\n",
    "train_token_ids = encode_token_ids(x_train.alltext, token2idx, unk_token_id)\n",
    "test_token_ids = encode_token_ids(x_test.alltext, token2idx, unk_token_id)"
   ]
  },
  {
   "cell_type": "markdown",
   "metadata": {},
   "source": [
    "## Encode the number of occurencies"
   ]
  },
  {
   "cell_type": "markdown",
   "metadata": {},
   "source": [
    "#### The idea is to encode the number of occurencies of each word inside a webpage. This will be the feature vector to feed inside the model"
   ]
  },
  {
   "cell_type": "code",
   "execution_count": 61,
   "metadata": {},
   "outputs": [],
   "source": [
    "# create feature vector - takes more than 5 minutes to run\n",
    "\n",
    "fdata = pd.DataFrame()\n",
    "for startup in train_token_ids:   # iterate over each sample of the dataset\n",
    "    occurences = Counter(startup)   # count the occurencies for each word\n",
    "    encoding = np.zeros(vocab_size)   \n",
    "    encoding[list(occurences.keys())] = list(occurences.values()) # encode each word in the vocabulary with the number of appearences\n",
    "    encoding_series = pd.DataFrame([encoding])\n",
    "    fdata = pd.concat([fdata, encoding_series])  # concatenate all the samples\n",
    "    \n",
    "fdata.columns = list(token2idx.keys())   # name the features as the word itself"
   ]
  },
  {
   "cell_type": "code",
   "execution_count": 62,
   "metadata": {},
   "outputs": [],
   "source": [
    "# same encoding for the test data\n",
    "\n",
    "fdata_test = pd.DataFrame()\n",
    "for startup in test_token_ids:\n",
    "    occurences = Counter(startup)\n",
    "    encoding = np.zeros(vocab_size)\n",
    "    encoding[list(occurences.keys())] = list(occurences.values())\n",
    "    encoding_series = pd.DataFrame([encoding])\n",
    "    fdata_test = pd.concat([fdata_test, encoding_series])\n",
    "    \n",
    "fdata_test.columns = list(token2idx.keys())"
   ]
  },
  {
   "cell_type": "code",
   "execution_count": 63,
   "metadata": {},
   "outputs": [
    {
     "data": {
      "text/plain": [
       "(3670, 3000)"
      ]
     },
     "execution_count": 63,
     "metadata": {},
     "output_type": "execute_result"
    }
   ],
   "source": [
    "# now the shape is number of samples x vocabulary size\n",
    "\n",
    "fdata.shape"
   ]
  },
  {
   "cell_type": "code",
   "execution_count": 64,
   "metadata": {},
   "outputs": [],
   "source": [
    "# keep the indexes who identify the company\n",
    "\n",
    "fdata.index = x_train.index\n",
    "fdata_test.index = x_test.index"
   ]
  },
  {
   "cell_type": "markdown",
   "metadata": {},
   "source": [
    "## Save Encoded Data"
   ]
  },
  {
   "cell_type": "code",
   "execution_count": 65,
   "metadata": {},
   "outputs": [],
   "source": [
    "# save the data encoding\n",
    "\n",
    "fdata.to_csv('fdata_train')\n",
    "fdata_test.to_csv('fdata_test') "
   ]
  },
  {
   "cell_type": "markdown",
   "metadata": {},
   "source": [
    "## Load Encoded Data"
   ]
  },
  {
   "cell_type": "code",
   "execution_count": 20,
   "metadata": {},
   "outputs": [],
   "source": [
    "# load the encoded data\n",
    "\n",
    "fdata_test = pd.read_csv('fdata_test')\n",
    "fdata = pd.read_csv('fdata_train')"
   ]
  },
  {
   "cell_type": "code",
   "execution_count": 66,
   "metadata": {},
   "outputs": [
    {
     "data": {
      "text/plain": [
       "(3670, 3000)"
      ]
     },
     "execution_count": 66,
     "metadata": {},
     "output_type": "execute_result"
    }
   ],
   "source": [
    "fdata.shape"
   ]
  },
  {
   "cell_type": "markdown",
   "metadata": {},
   "source": [
    "## Feature Engineering"
   ]
  },
  {
   "cell_type": "markdown",
   "metadata": {},
   "source": [
    "#### The idea is to perform some feature engineering to extract some meaningful features"
   ]
  },
  {
   "cell_type": "code",
   "execution_count": 67,
   "metadata": {},
   "outputs": [],
   "source": [
    "# add the new features to the data\n",
    "\n",
    "fdata['ai_encoding'] = (fdata['ai']>15).astype(int) # encode whether the word 'ai' appears at least 15 times\n",
    "fdata['machine_encoding'] = (fdata['machine']>15).astype(int)\n",
    "fdata['artificial_encoding'] = (fdata['artificial']>15).astype(int)\n",
    "fdata['deep_encoding'] = (fdata['deep']>6).astype(int)\n",
    "fdata['ml_encoding'] = (fdata['machine']+fdata['learning']>30).astype(int)\n",
    "fdata['all_encoding'] = (fdata.machine+fdata.learning+fdata.ai+fdata.artificial+fdata.intelligence>50).astype(int)\n",
    "\n",
    "fdata_test['ai_encoding'] = (fdata_test['ai']>15).astype(int)\n",
    "fdata_test['machine_encoding'] = (fdata_test['machine']>15).astype(int)\n",
    "fdata_test['artificial_encoding'] = (fdata_test['artificial']>15).astype(int)\n",
    "fdata_test['deep_encoding'] = (fdata_test['deep']>6).astype(int)\n",
    "fdata_test['ml_encoding'] = (fdata_test['machine']+fdata_test['learning']>30).astype(int)\n",
    "fdata_test['all_encoding'] = (fdata_test.machine+fdata_test.learning+fdata_test.ai+fdata_test.artificial+fdata_test.intelligence>50).astype(int)"
   ]
  },
  {
   "cell_type": "markdown",
   "metadata": {},
   "source": [
    "## Feature Selection"
   ]
  },
  {
   "cell_type": "code",
   "execution_count": 79,
   "metadata": {},
   "outputs": [],
   "source": [
    "# select the best features, i.e. the most correlated to the target variable\n",
    "\n",
    "feature_selector = SelectKBest(chi2, k = 2500)  # select the best 1000, empirically optimized\n",
    "feature_selector.fit(fdata, y_train)\n",
    "cols = feature_selector.get_support(indices = True)\n",
    "\n",
    "# new data\n",
    "\n",
    "fdata_small = fdata.iloc[:,cols] \n",
    "fdata_test_small = fdata_test.iloc[:,cols]"
   ]
  },
  {
   "cell_type": "markdown",
   "metadata": {},
   "source": [
    "## Outliers Detection"
   ]
  },
  {
   "cell_type": "markdown",
   "metadata": {},
   "source": [
    "#### The idea is to remove the outliers, i.e. the samples which do not have at least 10 words among the selected feature words"
   ]
  },
  {
   "cell_type": "code",
   "execution_count": 80,
   "metadata": {},
   "outputs": [
    {
     "data": {
      "image/png": "[encoded data removed]",
      "text/plain": [
       "<Figure size 432x288 with 1 Axes>"
      ]
     },
     "metadata": {
      "needs_background": "light"
     },
     "output_type": "display_data"
    }
   ],
   "source": [
    "# distribution of zero features in the data, to set the threshold of outliers\n",
    "\n",
    "plt.hist((fdata_small == 0).sum(axis=1), bins=100)\n",
    "plt.show()"
   ]
  },
  {
   "cell_type": "code",
   "execution_count": 81,
   "metadata": {},
   "outputs": [],
   "source": [
    "# remove samples which don't have at least 10 non-zero features\n",
    "\n",
    "indexes = (fdata_small == 0).sum(axis=1)<2490   # At least 10 nonzero values \n",
    "fdata_new = fdata_small.loc[indexes]\n",
    "fdata_new.shape # new data shape\n",
    "y_train_new = y_train.loc[indexes]  # new training label"
   ]
  },
  {
   "cell_type": "code",
   "execution_count": 82,
   "metadata": {},
   "outputs": [
    {
     "name": "stdout",
     "output_type": "stream",
     "text": [
      "New shape: (3659, 2500)\n"
     ]
    }
   ],
   "source": [
    "print('New shape: {}'.format(fdata_new.shape))"
   ]
  },
  {
   "cell_type": "markdown",
   "metadata": {},
   "source": [
    "## Rescaling"
   ]
  },
  {
   "cell_type": "markdown",
   "metadata": {},
   "source": [
    "#### Let's rescale the data between the range [0,1]"
   ]
  },
  {
   "cell_type": "code",
   "execution_count": 83,
   "metadata": {},
   "outputs": [],
   "source": [
    "# rescale the data\n",
    "\n",
    "scaler = MinMaxScaler(feature_range=(0,1))\n",
    "fdata_scaled = pd.DataFrame(scaler.fit_transform(fdata_new))\n",
    "fdata_scaled.columns = fdata_new.columns\n",
    "\n",
    "scaler_test = MinMaxScaler(feature_range=(0,1))\n",
    "fdata_scaled_test = pd.DataFrame(scaler.fit_transform(fdata_test_small))\n",
    "fdata_scaled_test.columns = fdata_test_small.columns"
   ]
  },
  {
   "cell_type": "code",
   "execution_count": 84,
   "metadata": {},
   "outputs": [
    {
     "name": "stdout",
     "output_type": "stream",
     "text": [
      "The final data look like this:\n"
     ]
    },
    {
     "data": {
      "text/html": [
       "<div>\n",
       "<style scoped>\n",
       "    .dataframe tbody tr th:only-of-type {\n",
       "        vertical-align: middle;\n",
       "    }\n",
       "\n",
       "    .dataframe tbody tr th {\n",
       "        vertical-align: top;\n",
       "    }\n",
       "\n",
       "    .dataframe thead th {\n",
       "        text-align: right;\n",
       "    }\n",
       "</style>\n",
       "<table border=\"1\" class=\"dataframe\">\n",
       "  <thead>\n",
       "    <tr style=\"text-align: right;\">\n",
       "      <th></th>\n",
       "      <th>&lt;UNK&gt;</th>\n",
       "      <th>us</th>\n",
       "      <th>data</th>\n",
       "      <th>privacy</th>\n",
       "      <th>company</th>\n",
       "      <th>policy</th>\n",
       "      <th>team</th>\n",
       "      <th>use</th>\n",
       "      <th>technology</th>\n",
       "      <th>business</th>\n",
       "      <th>...</th>\n",
       "      <th>finish</th>\n",
       "      <th>resident</th>\n",
       "      <th>query</th>\n",
       "      <th>florida</th>\n",
       "      <th>ai_encoding</th>\n",
       "      <th>machine_encoding</th>\n",
       "      <th>artificial_encoding</th>\n",
       "      <th>deep_encoding</th>\n",
       "      <th>ml_encoding</th>\n",
       "      <th>all_encoding</th>\n",
       "    </tr>\n",
       "  </thead>\n",
       "  <tbody>\n",
       "    <tr>\n",
       "      <th>0</th>\n",
       "      <td>0.026523</td>\n",
       "      <td>0.099099</td>\n",
       "      <td>0.015267</td>\n",
       "      <td>0.121212</td>\n",
       "      <td>0.016760</td>\n",
       "      <td>0.035794</td>\n",
       "      <td>0.051724</td>\n",
       "      <td>0.009615</td>\n",
       "      <td>0.007299</td>\n",
       "      <td>0.006944</td>\n",
       "      <td>...</td>\n",
       "      <td>0.0</td>\n",
       "      <td>0.0</td>\n",
       "      <td>0.0</td>\n",
       "      <td>0.083333</td>\n",
       "      <td>1.0</td>\n",
       "      <td>0.0</td>\n",
       "      <td>0.0</td>\n",
       "      <td>0.0</td>\n",
       "      <td>0.0</td>\n",
       "      <td>1.0</td>\n",
       "    </tr>\n",
       "    <tr>\n",
       "      <th>1</th>\n",
       "      <td>0.018794</td>\n",
       "      <td>0.045045</td>\n",
       "      <td>0.022901</td>\n",
       "      <td>0.030303</td>\n",
       "      <td>0.005587</td>\n",
       "      <td>0.026846</td>\n",
       "      <td>0.068966</td>\n",
       "      <td>0.105769</td>\n",
       "      <td>0.003650</td>\n",
       "      <td>0.027778</td>\n",
       "      <td>...</td>\n",
       "      <td>0.0</td>\n",
       "      <td>0.0</td>\n",
       "      <td>0.0</td>\n",
       "      <td>0.000000</td>\n",
       "      <td>0.0</td>\n",
       "      <td>0.0</td>\n",
       "      <td>0.0</td>\n",
       "      <td>0.0</td>\n",
       "      <td>0.0</td>\n",
       "      <td>0.0</td>\n",
       "    </tr>\n",
       "    <tr>\n",
       "      <th>2</th>\n",
       "      <td>0.002273</td>\n",
       "      <td>0.027027</td>\n",
       "      <td>0.015267</td>\n",
       "      <td>0.045455</td>\n",
       "      <td>0.000000</td>\n",
       "      <td>0.006711</td>\n",
       "      <td>0.000000</td>\n",
       "      <td>0.000000</td>\n",
       "      <td>0.000000</td>\n",
       "      <td>0.000000</td>\n",
       "      <td>...</td>\n",
       "      <td>0.0</td>\n",
       "      <td>0.0</td>\n",
       "      <td>0.0</td>\n",
       "      <td>0.000000</td>\n",
       "      <td>0.0</td>\n",
       "      <td>0.0</td>\n",
       "      <td>0.0</td>\n",
       "      <td>0.0</td>\n",
       "      <td>0.0</td>\n",
       "      <td>0.0</td>\n",
       "    </tr>\n",
       "    <tr>\n",
       "      <th>3</th>\n",
       "      <td>0.028797</td>\n",
       "      <td>0.153153</td>\n",
       "      <td>0.156489</td>\n",
       "      <td>0.045455</td>\n",
       "      <td>0.025140</td>\n",
       "      <td>0.000000</td>\n",
       "      <td>0.310345</td>\n",
       "      <td>0.105769</td>\n",
       "      <td>0.029197</td>\n",
       "      <td>0.027778</td>\n",
       "      <td>...</td>\n",
       "      <td>0.0</td>\n",
       "      <td>0.0</td>\n",
       "      <td>0.0</td>\n",
       "      <td>0.000000</td>\n",
       "      <td>0.0</td>\n",
       "      <td>0.0</td>\n",
       "      <td>0.0</td>\n",
       "      <td>0.0</td>\n",
       "      <td>0.0</td>\n",
       "      <td>0.0</td>\n",
       "    </tr>\n",
       "    <tr>\n",
       "      <th>4</th>\n",
       "      <td>0.164595</td>\n",
       "      <td>0.027027</td>\n",
       "      <td>0.000000</td>\n",
       "      <td>0.015152</td>\n",
       "      <td>0.002793</td>\n",
       "      <td>0.002237</td>\n",
       "      <td>0.000000</td>\n",
       "      <td>0.000000</td>\n",
       "      <td>0.000000</td>\n",
       "      <td>0.076389</td>\n",
       "      <td>...</td>\n",
       "      <td>0.0</td>\n",
       "      <td>0.0</td>\n",
       "      <td>0.0</td>\n",
       "      <td>0.000000</td>\n",
       "      <td>0.0</td>\n",
       "      <td>0.0</td>\n",
       "      <td>0.0</td>\n",
       "      <td>0.0</td>\n",
       "      <td>0.0</td>\n",
       "      <td>0.0</td>\n",
       "    </tr>\n",
       "  </tbody>\n",
       "</table>\n",
       "<p>5 rows × 2500 columns</p>\n",
       "</div>"
      ],
      "text/plain": [
       "      <UNK>        us      data   privacy   company    policy      team  \\\n",
       "0  0.026523  0.099099  0.015267  0.121212  0.016760  0.035794  0.051724   \n",
       "1  0.018794  0.045045  0.022901  0.030303  0.005587  0.026846  0.068966   \n",
       "2  0.002273  0.027027  0.015267  0.045455  0.000000  0.006711  0.000000   \n",
       "3  0.028797  0.153153  0.156489  0.045455  0.025140  0.000000  0.310345   \n",
       "4  0.164595  0.027027  0.000000  0.015152  0.002793  0.002237  0.000000   \n",
       "\n",
       "        use  technology  business  ...  finish  resident  query   florida  \\\n",
       "0  0.009615    0.007299  0.006944  ...     0.0       0.0    0.0  0.083333   \n",
       "1  0.105769    0.003650  0.027778  ...     0.0       0.0    0.0  0.000000   \n",
       "2  0.000000    0.000000  0.000000  ...     0.0       0.0    0.0  0.000000   \n",
       "3  0.105769    0.029197  0.027778  ...     0.0       0.0    0.0  0.000000   \n",
       "4  0.000000    0.000000  0.076389  ...     0.0       0.0    0.0  0.000000   \n",
       "\n",
       "   ai_encoding  machine_encoding  artificial_encoding  deep_encoding  \\\n",
       "0          1.0               0.0                  0.0            0.0   \n",
       "1          0.0               0.0                  0.0            0.0   \n",
       "2          0.0               0.0                  0.0            0.0   \n",
       "3          0.0               0.0                  0.0            0.0   \n",
       "4          0.0               0.0                  0.0            0.0   \n",
       "\n",
       "   ml_encoding  all_encoding  \n",
       "0          0.0           1.0  \n",
       "1          0.0           0.0  \n",
       "2          0.0           0.0  \n",
       "3          0.0           0.0  \n",
       "4          0.0           0.0  \n",
       "\n",
       "[5 rows x 2500 columns]"
      ]
     },
     "execution_count": 84,
     "metadata": {},
     "output_type": "execute_result"
    }
   ],
   "source": [
    "print('The final data look like this:')\n",
    "fdata_scaled.head()"
   ]
  },
  {
   "cell_type": "markdown",
   "metadata": {},
   "source": [
    "## Model"
   ]
  },
  {
   "cell_type": "code",
   "execution_count": 86,
   "metadata": {},
   "outputs": [
    {
     "name": "stdout",
     "output_type": "stream",
     "text": [
      "Test accuracy: 0.8676470588235294\n"
     ]
    }
   ],
   "source": [
    "# create the model\n",
    "\n",
    "model = RandomForestClassifier(n_estimators=1000, criterion='entropy') # hyperparameters optimized through gridsearch\n",
    "\n",
    "# cv_accuracy = cross_val_score(model, fdata_small, y_train, cv=4)  # compute the cross validation score\n",
    "# print('Cross-validation accuracy: {}'.format(cv_accuracy))\n",
    "# print('Mean and std: {}, {}'.format(cv_accuracy.mean(), cv_accuracy.std()))\n",
    "\n",
    "model.fit(fdata_new, y_train_new)  # fit the model\n",
    "predictions = model.predict(fdata_test_small)   # compute the predictions\n",
    "score = model.score(fdata_test_small, y_test)   # compute the score on the test set\n",
    "\n",
    "print('Test accuracy: {}'.format(score))"
   ]
  },
  {
   "cell_type": "markdown",
   "metadata": {},
   "source": [
    "## Confusion Matrix "
   ]
  },
  {
   "cell_type": "code",
   "execution_count": 75,
   "metadata": {},
   "outputs": [
    {
     "data": {
      "image/png": "[encoded data removed]",
      "text/plain": [
       "<Figure size 432x288 with 2 Axes>"
      ]
     },
     "metadata": {
      "needs_background": "light"
     },
     "output_type": "display_data"
    }
   ],
   "source": [
    "# inspect the confusion matrix to see the false negatives/ false positives rate\n",
    "\n",
    "matrix = confusion_matrix(y_test, predictions)\n",
    "display_matrix = ConfusionMatrixDisplay(matrix).plot()"
   ]
  },
  {
   "cell_type": "markdown",
   "metadata": {},
   "source": [
    "## GridSearch Hyperparameters Optimization"
   ]
  },
  {
   "cell_type": "code",
   "execution_count": 74,
   "metadata": {},
   "outputs": [
    {
     "name": "stdout",
     "output_type": "stream",
     "text": [
      "Best score: 0.8596730245231609\n",
      "Best parameters: {'criterion': 'gini', 'max_depth': 10000, 'n_estimators': 1000}\n"
     ]
    }
   ],
   "source": [
    "# hyperparameter optimization\n",
    "\n",
    "parameters = {'n_estimators':[100, 500, 1000], 'criterion':['gini', 'entropy'], 'max_depth':[100, 10000]} # parameter grid\n",
    "clf = GridSearchCV(model, parameters)\n",
    "clf.fit(fdata_small, y_train)\n",
    "\n",
    "print('Best score: {}'.format(clf.best_score_))\n",
    "print('Best parameters: {}'.format(clf.best_params_))"
   ]
  }
 ],
 "metadata": {
  "kernelspec": {
   "display_name": "Python 3",
   "language": "python",
   "name": "python3"
  },
  "language_info": {
   "codemirror_mode": {
    "name": "ipython",
    "version": 3
   },
   "file_extension": ".py",
   "mimetype": "text/x-python",
   "name": "python",
   "nbconvert_exporter": "python",
   "pygments_lexer": "ipython3",
   "version": "3.8.5"
  }
 },
 "nbformat": 4,
 "nbformat_minor": 4
}
